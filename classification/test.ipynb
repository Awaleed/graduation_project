{
 "cells": [
  {
   "cell_type": "code",
   "execution_count": null,
   "metadata": {},
   "outputs": [],
   "source": [
    "import tensorflow as tf\n",
    "from tensorflow.keras.models import load_model\n",
    "from matplotlib import pyplot as plt\n",
    "import numpy as np\n",
    "from pathlib import Path\n",
    "import os.path\n",
    "import pandas as pd\n",
    "import time\n"
   ]
  },
  {
   "cell_type": "code",
   "execution_count": null,
   "metadata": {},
   "outputs": [],
   "source": [
    "model = load_model(os.path.join('models', 'Osteosarcoma1.h5'))\n",
    "\n",
    "mLabels = [\n",
    "    'Non-Tumor',\n",
    "    'Non-Viable-Tumor',\n",
    "    'Viable',\n",
    "    'viable: non-viable',\n",
    "]\n"
   ]
  },
  {
   "cell_type": "code",
   "execution_count": null,
   "metadata": {},
   "outputs": [],
   "source": [
    "data = \"input/Osteosarcoma\"\n",
    "image_dir = Path(data)\n",
    "\n",
    "# Get filepaths and labels\n",
    "filepaths = list(image_dir.glob(r'**/*.JPG')) + list(image_dir.glob(r'**/*.jpg')) \n",
    "\n",
    "labels = list(map(lambda x: os.path.split(os.path.split(x)[0])[1], filepaths))\n",
    "\n",
    "filepaths = pd.Series(filepaths, name='Filepath').astype(str)\n",
    "labels = pd.Series(labels, name='Label')\n",
    "\n",
    "# Concatenate filepaths and labels\n",
    "image_df = pd.concat([filepaths, labels], axis=1)\n",
    "\n"
   ]
  },
  {
   "cell_type": "code",
   "execution_count": null,
   "metadata": {},
   "outputs": [],
   "source": [
    "for mmmmmm in range(10):\n",
    "    random_index = np.random.randint(0, len(image_df))\n",
    "\n",
    "\n",
    "    img = tf.keras.utils.load_img(\n",
    "        image_df.Filepath[random_index],\n",
    "        target_size=(224, 224),\n",
    "    )\n",
    "\n",
    "\n",
    "    fig, axes = plt.subplots(\n",
    "        nrows=1,\n",
    "        ncols=1,\n",
    "        figsize=(2, 2),\n",
    "        subplot_kw={'xticks': [], 'yticks': []}\n",
    "    )\n",
    "\n",
    "    axes.imshow(img)\n",
    "    axes.set_title(image_df.Label[random_index])\n",
    "    plt.tight_layout()\n",
    "    plt.show()\n",
    "\n",
    "    x = np.expand_dims(img, axis=0)\n",
    "\n",
    "    predict = model.predict(x)\n",
    "    classes = np.argmax(predict, axis=1)\n",
    "    \n",
    "    print('Actual: {}'.format(image_df.Label[random_index]))\n",
    "    print('Predict: {}'.format(predict))\n",
    "    print('Classes: {}'.format(classes))\n",
    "    print('Label: {}'.format(mLabels[classes.tolist()[0]]))\n",
    "\n",
    "    \n",
    "    # time.sleep(5)"
   ]
  }
 ],
 "metadata": {
  "kernelspec": {
   "display_name": "Python 3.10.5 64-bit",
   "language": "python",
   "name": "python3"
  },
  "language_info": {
   "codemirror_mode": {
    "name": "ipython",
    "version": 3
   },
   "file_extension": ".py",
   "mimetype": "text/x-python",
   "name": "python",
   "nbconvert_exporter": "python",
   "pygments_lexer": "ipython3",
   "version": "3.10.5 (v3.10.5:f377153967, Jun  6 2022, 12:36:10) [Clang 13.0.0 (clang-1300.0.29.30)]"
  },
  "orig_nbformat": 4,
  "vscode": {
   "interpreter": {
    "hash": "aee8b7b246df8f9039afb4144a1f6fd8d2ca17a180786b69acc140d282b71a49"
   }
  }
 },
 "nbformat": 4,
 "nbformat_minor": 2
}
