{
 "cells": [
  {
   "cell_type": "code",
   "execution_count": 8,
   "id": "8b2a24bd",
   "metadata": {},
   "outputs": [
    {
     "name": "stdout",
     "output_type": "stream",
     "text": [
      "Requirement already satisfied: visualkeras in /Users/abdulrahmanwaleed/.pyenv/versions/3.7.16/lib/python3.7/site-packages (0.0.2)\n",
      "Requirement already satisfied: aggdraw>=1.3.11 in /Users/abdulrahmanwaleed/.pyenv/versions/3.7.16/lib/python3.7/site-packages (from visualkeras) (1.3.16)\n",
      "Requirement already satisfied: pillow>=6.2.0 in /Users/abdulrahmanwaleed/.pyenv/versions/3.7.16/lib/python3.7/site-packages (from visualkeras) (9.4.0)\n",
      "Requirement already satisfied: numpy>=1.18.1 in /Users/abdulrahmanwaleed/.pyenv/versions/3.7.16/lib/python3.7/site-packages (from visualkeras) (1.21.6)\n",
      "\u001b[33mWARNING: You are using pip version 22.0.4; however, version 23.0.1 is available.\n",
      "You should consider upgrading via the '/Users/abdulrahmanwaleed/.pyenv/versions/3.7.16/bin/python -m pip install --upgrade pip' command.\u001b[0m\u001b[33m\n",
      "\u001b[0m"
     ]
    }
   ],
   "source": [
    "!python -m pip install visualkeras"
   ]
  },
  {
   "cell_type": "code",
   "execution_count": 9,
   "id": "030eb0ae",
   "metadata": {
    "execution": {
     "iopub.execute_input": "2023-02-10T20:23:17.152654Z",
     "iopub.status.busy": "2023-02-10T20:23:17.151982Z",
     "iopub.status.idle": "2023-02-10T20:23:23.404405Z",
     "shell.execute_reply": "2023-02-10T20:23:23.403263Z"
    },
    "executionInfo": {
     "elapsed": 15124,
     "status": "ok",
     "timestamp": 1592528401604,
     "user": {
      "displayName": "Kukeshajanth Kodeswaran",
      "photoUrl": "",
      "userId": "09269573466384281285"
     },
     "user_tz": 240
    },
    "id": "lf_7805PvGgZ",
    "outputId": "56b1cc12-8399-44ad-f68d-937a6e46ad24",
    "papermill": {
     "duration": 6.269462,
     "end_time": "2023-02-10T20:23:23.407094",
     "exception": false,
     "start_time": "2023-02-10T20:23:17.137632",
     "status": "completed"
    },
    "tags": []
   },
   "outputs": [],
   "source": [
    "import numpy as np\n",
    "import matplotlib.pyplot as plt\n",
    "import seaborn as sns\n",
    "from keras.applications.inception_resnet_v2 import InceptionResNetV2\n",
    "from keras.layers import *\n",
    "from keras.models import Model, Sequential\n",
    "from keras.optimizers import SGD\n",
    "from keras.callbacks import EarlyStopping, ModelCheckpoint\n",
    "import visualkeras\n",
    "\n",
    "\n"
   ]
  },
  {
   "cell_type": "code",
   "execution_count": 18,
   "id": "9ded3b1f",
   "metadata": {
    "execution": {
     "iopub.execute_input": "2023-02-10T20:23:23.435389Z",
     "iopub.status.busy": "2023-02-10T20:23:23.434738Z",
     "iopub.status.idle": "2023-02-10T20:23:23.439704Z",
     "shell.execute_reply": "2023-02-10T20:23:23.438573Z"
    },
    "executionInfo": {
     "elapsed": 1462,
     "status": "ok",
     "timestamp": 1592528403092,
     "user": {
      "displayName": "Kukeshajanth Kodeswaran",
      "photoUrl": "",
      "userId": "09269573466384281285"
     },
     "user_tz": 240
    },
    "id": "GUmPRk_NvrXz",
    "outputId": "5fec6b57-9bc1-494f-f1b8-96dd13280979",
    "papermill": {
     "duration": 0.021794,
     "end_time": "2023-02-10T20:23:23.441989",
     "exception": false,
     "start_time": "2023-02-10T20:23:23.420195",
     "status": "completed"
    },
    "tags": []
   },
   "outputs": [],
   "source": [
    "# load the inception resnetv2 model\n",
    "basemodel = InceptionResNetV2(\n",
    "    weights='imagenet',\n",
    "    include_top=False,\n",
    "    input_tensor=Input(shape=(256, 256, 3))\n",
    ")\n",
    "\n",
    "# Freeze the basemodel weights , so these weights won't change during training\n",
    "\n",
    "\n",
    "# model = Model(inputs = basemodel.input, outputs = headmodel)\n",
    "headmodel = basemodel.output\n",
    "headmodel = GlobalAveragePooling2D(name = 'global_average_pool')(headmodel)\n",
    "headmodel = Flatten(name= 'flatten')(headmodel)\n",
    "headmodel = Dense(256, activation = \"relu\", name = 'dense_1')(headmodel)\n",
    "headmodel = Dropout(0.3)(headmodel)\n",
    "headmodel = Dense(128, activation = \"relu\", name = 'dense_2')(headmodel)\n",
    "headmodel = Dropout(0.2)(headmodel)\n",
    "headmodel = Dense(3, activation = 'softmax', name = 'dense_3')(headmodel)\n",
    "\n",
    "model = Model(inputs = basemodel.input, outputs = headmodel)\n"
   ]
  },
  {
   "cell_type": "code",
   "execution_count": 19,
   "id": "4d2dbd12",
   "metadata": {
    "execution": {
     "iopub.execute_input": "2023-02-10T20:23:23.558320Z",
     "iopub.status.busy": "2023-02-10T20:23:23.557272Z",
     "iopub.status.idle": "2023-02-10T20:23:23.780874Z",
     "shell.execute_reply": "2023-02-10T20:23:23.779155Z"
    },
    "papermill": {
     "duration": 0.242026,
     "end_time": "2023-02-10T20:23:23.783213",
     "exception": false,
     "start_time": "2023-02-10T20:23:23.541187",
     "status": "completed"
    },
    "tags": []
   },
   "outputs": [
    {
     "ename": "AttributeError",
     "evalue": "'Sequential' object has no attribute '_layers'",
     "output_type": "error",
     "traceback": [
      "\u001b[0;31m---------------------------------------------------------------------------\u001b[0m",
      "\u001b[0;31mAttributeError\u001b[0m                            Traceback (most recent call last)",
      "\u001b[0;32m/var/folders/5q/9231cv493_gb_2tg_6d5k7w40000gp/T/ipykernel_75826/3478754814.py\u001b[0m in \u001b[0;36m<module>\u001b[0;34m\u001b[0m\n\u001b[0;32m----> 1\u001b[0;31m \u001b[0mvisualkeras\u001b[0m\u001b[0;34m.\u001b[0m\u001b[0mgraph_view\u001b[0m\u001b[0;34m(\u001b[0m\u001b[0mmodel\u001b[0m\u001b[0;34m,\u001b[0m \u001b[0mto_file\u001b[0m\u001b[0;34m=\u001b[0m\u001b[0;34m'model.png'\u001b[0m\u001b[0;34m)\u001b[0m\u001b[0;34m\u001b[0m\u001b[0;34m\u001b[0m\u001b[0m\n\u001b[0m",
      "\u001b[0;32m~/.pyenv/versions/3.7.16/lib/python3.7/site-packages/visualkeras/graph.py\u001b[0m in \u001b[0;36mgraph_view\u001b[0;34m(model, to_file, color_map, node_size, background_fill, padding, layer_spacing, node_spacing, connector_fill, connector_width, ellipsize_after, inout_as_tensor, show_neurons)\u001b[0m\n\u001b[1;32m     56\u001b[0m     \u001b[0;31m# Attach helper layers\u001b[0m\u001b[0;34m\u001b[0m\u001b[0;34m\u001b[0m\u001b[0;34m\u001b[0m\u001b[0m\n\u001b[1;32m     57\u001b[0m \u001b[0;34m\u001b[0m\u001b[0m\n\u001b[0;32m---> 58\u001b[0;31m     \u001b[0mid_to_num_mapping\u001b[0m\u001b[0;34m,\u001b[0m \u001b[0madj_matrix\u001b[0m \u001b[0;34m=\u001b[0m \u001b[0mmodel_to_adj_matrix\u001b[0m\u001b[0;34m(\u001b[0m\u001b[0mmodel\u001b[0m\u001b[0;34m)\u001b[0m\u001b[0;34m\u001b[0m\u001b[0;34m\u001b[0m\u001b[0m\n\u001b[0m\u001b[1;32m     59\u001b[0m     \u001b[0mmodel_layers\u001b[0m \u001b[0;34m=\u001b[0m \u001b[0mmodel_to_hierarchy_lists\u001b[0m\u001b[0;34m(\u001b[0m\u001b[0mmodel\u001b[0m\u001b[0;34m,\u001b[0m \u001b[0mid_to_num_mapping\u001b[0m\u001b[0;34m,\u001b[0m \u001b[0madj_matrix\u001b[0m\u001b[0;34m)\u001b[0m\u001b[0;34m\u001b[0m\u001b[0;34m\u001b[0m\u001b[0m\n\u001b[1;32m     60\u001b[0m \u001b[0;34m\u001b[0m\u001b[0m\n",
      "\u001b[0;32m~/.pyenv/versions/3.7.16/lib/python3.7/site-packages/visualkeras/layer_utils.py\u001b[0m in \u001b[0;36mmodel_to_adj_matrix\u001b[0;34m(model)\u001b[0m\n\u001b[1;32m     37\u001b[0m         \u001b[0;32mif\u001b[0m \u001b[0;32mnot\u001b[0m \u001b[0mmodel\u001b[0m\u001b[0;34m.\u001b[0m\u001b[0mbuilt\u001b[0m\u001b[0;34m:\u001b[0m\u001b[0;34m\u001b[0m\u001b[0;34m\u001b[0m\u001b[0m\n\u001b[1;32m     38\u001b[0m             \u001b[0mmodel\u001b[0m\u001b[0;34m.\u001b[0m\u001b[0mbuild\u001b[0m\u001b[0;34m(\u001b[0m\u001b[0;34m)\u001b[0m\u001b[0;34m\u001b[0m\u001b[0;34m\u001b[0m\u001b[0m\n\u001b[0;32m---> 39\u001b[0;31m     \u001b[0mlayers\u001b[0m \u001b[0;34m=\u001b[0m \u001b[0mmodel\u001b[0m\u001b[0;34m.\u001b[0m\u001b[0m_layers\u001b[0m\u001b[0;34m\u001b[0m\u001b[0;34m\u001b[0m\u001b[0m\n\u001b[0m\u001b[1;32m     40\u001b[0m \u001b[0;34m\u001b[0m\u001b[0m\n\u001b[1;32m     41\u001b[0m     \u001b[0madj_matrix\u001b[0m \u001b[0;34m=\u001b[0m \u001b[0mnp\u001b[0m\u001b[0;34m.\u001b[0m\u001b[0mzeros\u001b[0m\u001b[0;34m(\u001b[0m\u001b[0;34m(\u001b[0m\u001b[0mlen\u001b[0m\u001b[0;34m(\u001b[0m\u001b[0mlayers\u001b[0m\u001b[0;34m)\u001b[0m\u001b[0;34m,\u001b[0m \u001b[0mlen\u001b[0m\u001b[0;34m(\u001b[0m\u001b[0mlayers\u001b[0m\u001b[0;34m)\u001b[0m\u001b[0;34m)\u001b[0m\u001b[0;34m)\u001b[0m\u001b[0;34m\u001b[0m\u001b[0;34m\u001b[0m\u001b[0m\n",
      "\u001b[0;31mAttributeError\u001b[0m: 'Sequential' object has no attribute '_layers'"
     ]
    }
   ],
   "source": [
    "visualkeras.graph_view(model, to_file='model.png')"
   ]
  }
 ],
 "metadata": {
  "kernelspec": {
   "display_name": "Python 3",
   "language": "python",
   "name": "python3"
  },
  "language_info": {
   "codemirror_mode": {
    "name": "ipython",
    "version": 3
   },
   "file_extension": ".py",
   "mimetype": "text/x-python",
   "name": "python",
   "nbconvert_exporter": "python",
   "pygments_lexer": "ipython3",
   "version": "3.7.16"
  },
  "papermill": {
   "default_parameters": {},
   "duration": 671.954329,
   "end_time": "2023-02-10T20:34:20.844895",
   "environment_variables": {},
   "exception": null,
   "input_path": "__notebook__.ipynb",
   "output_path": "__notebook__.ipynb",
   "parameters": {},
   "start_time": "2023-02-10T20:23:08.890566",
   "version": "2.3.4"
  },
  "vscode": {
   "interpreter": {
    "hash": "d33c48aede0e23553f176ba02ef774cbb4fd4774b638e44e4afcb562c2d6c3c5"
   }
  }
 },
 "nbformat": 4,
 "nbformat_minor": 5
}
