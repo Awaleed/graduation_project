{
 "cells": [
  {
   "cell_type": "code",
   "execution_count": 8,
   "id": "8b2a24bd",
   "metadata": {},
   "outputs": [
    {
     "name": "stdout",
     "output_type": "stream",
     "text": [
      "Requirement already satisfied: visualkeras in /Users/abdulrahmanwaleed/.pyenv/versions/3.7.16/lib/python3.7/site-packages (0.0.2)\n",
      "Requirement already satisfied: aggdraw>=1.3.11 in /Users/abdulrahmanwaleed/.pyenv/versions/3.7.16/lib/python3.7/site-packages (from visualkeras) (1.3.16)\n",
      "Requirement already satisfied: pillow>=6.2.0 in /Users/abdulrahmanwaleed/.pyenv/versions/3.7.16/lib/python3.7/site-packages (from visualkeras) (9.4.0)\n",
      "Requirement already satisfied: numpy>=1.18.1 in /Users/abdulrahmanwaleed/.pyenv/versions/3.7.16/lib/python3.7/site-packages (from visualkeras) (1.21.6)\n",
      "\u001b[33mWARNING: You are using pip version 22.0.4; however, version 23.0.1 is available.\n",
      "You should consider upgrading via the '/Users/abdulrahmanwaleed/.pyenv/versions/3.7.16/bin/python -m pip install --upgrade pip' command.\u001b[0m\u001b[33m\n",
      "\u001b[0m"
     ]
    }
   ],
   "source": [
    "!python -m pip install visualkeras"
   ]
  },
  {
   "cell_type": "code",
   "execution_count": 9,
   "id": "030eb0ae",
   "metadata": {
    "execution": {
     "iopub.execute_input": "2023-02-10T20:23:17.152654Z",
     "iopub.status.busy": "2023-02-10T20:23:17.151982Z",
     "iopub.status.idle": "2023-02-10T20:23:23.404405Z",
     "shell.execute_reply": "2023-02-10T20:23:23.403263Z"
    },
    "executionInfo": {
     "elapsed": 15124,
     "status": "ok",
     "timestamp": 1592528401604,
     "user": {
      "displayName": "Kukeshajanth Kodeswaran",
      "photoUrl": "",
      "userId": "09269573466384281285"
     },
     "user_tz": 240
    },
    "id": "lf_7805PvGgZ",
    "outputId": "56b1cc12-8399-44ad-f68d-937a6e46ad24",
    "papermill": {
     "duration": 6.269462,
     "end_time": "2023-02-10T20:23:23.407094",
     "exception": false,
     "start_time": "2023-02-10T20:23:17.137632",
     "status": "completed"
    },
    "tags": []
   },
   "outputs": [],
   "source": [
    "import numpy as np\n",
    "import matplotlib.pyplot as plt\n",
    "import seaborn as sns\n",
    "from keras.applications.inception_resnet_v2 import InceptionResNetV2\n",
    "from keras.layers import *\n",
    "from keras.models import Model, Sequential\n",
    "from keras.optimizers import SGD\n",
    "from keras.callbacks import EarlyStopping, ModelCheckpoint\n",
    "import visualkeras\n",
    "\n",
    "\n"
   ]
  },
  {
   "cell_type": "code",
   "execution_count": 10,
   "id": "9ded3b1f",
   "metadata": {
    "execution": {
     "iopub.execute_input": "2023-02-10T20:23:23.435389Z",
     "iopub.status.busy": "2023-02-10T20:23:23.434738Z",
     "iopub.status.idle": "2023-02-10T20:23:23.439704Z",
     "shell.execute_reply": "2023-02-10T20:23:23.438573Z"
    },
    "executionInfo": {
     "elapsed": 1462,
     "status": "ok",
     "timestamp": 1592528403092,
     "user": {
      "displayName": "Kukeshajanth Kodeswaran",
      "photoUrl": "",
      "userId": "09269573466384281285"
     },
     "user_tz": 240
    },
    "id": "GUmPRk_NvrXz",
    "outputId": "5fec6b57-9bc1-494f-f1b8-96dd13280979",
    "papermill": {
     "duration": 0.021794,
     "end_time": "2023-02-10T20:23:23.441989",
     "exception": false,
     "start_time": "2023-02-10T20:23:23.420195",
     "status": "completed"
    },
    "tags": []
   },
   "outputs": [],
   "source": [
    "# load the inception resnetv2 model\n",
    "basemodel = InceptionResNetV2(\n",
    "    weights='imagenet',\n",
    "    include_top=False,\n",
    "    input_tensor=Input(shape=(256, 256, 3))\n",
    ")\n",
    "\n",
    "# Freeze the basemodel weights , so these weights won't change during training\n",
    "\n",
    "\n",
    "# model = Model(inputs = basemodel.input, outputs = headmodel)\n",
    "model = tf.keras.models.Sequential([\n",
    "    GlobalAveragePooling2D(name='global_average_pool',\n",
    "                           input_shape=(256, 256, 3),),\n",
    "    Flatten(name='flatten'),\n",
    "    Dense(256, activation=\"relu\", name='dense_1'),\n",
    "    Dropout(0.3),\n",
    "    Dense(128, activation=\"relu\", name='dense_2'),\n",
    "    Dropout(0.2),\n",
    "    Dense(3, activation='softmax', name='dense_3'),\n",
    "])\n",
    "# model = Sequential()\n",
    "# # add model layers\n",
    "# model.add(Conv2D(64, kernel_size=3, activation='relu', input_shape=(28, 28, 1)))\n",
    "# model.add(Conv2D(32, kernel_size=3, activation='relu'))\n",
    "# model.add(Flatten())\n",
    "# model.add(Dense(10, activation='softmax'))\n"
   ]
  },
  {
   "cell_type": "code",
   "execution_count": 11,
   "id": "4d2dbd12",
   "metadata": {
    "execution": {
     "iopub.execute_input": "2023-02-10T20:23:23.558320Z",
     "iopub.status.busy": "2023-02-10T20:23:23.557272Z",
     "iopub.status.idle": "2023-02-10T20:23:23.780874Z",
     "shell.execute_reply": "2023-02-10T20:23:23.779155Z"
    },
    "papermill": {
     "duration": 0.242026,
     "end_time": "2023-02-10T20:23:23.783213",
     "exception": false,
     "start_time": "2023-02-10T20:23:23.541187",
     "status": "completed"
    },
    "tags": []
   },
   "outputs": [],
   "source": [
    "visualkeras.graph_view(model).show() # display using your system viewer\n",
    "# visualkeras.layered_view(model, to_file='output.png') # write to disk\n",
    "# visualkeras.layered_view(model, to_file='output.png').show() # write and show"
   ]
  }
 ],
 "metadata": {
  "kernelspec": {
   "display_name": "Python 3",
   "language": "python",
   "name": "python3"
  },
  "language_info": {
   "codemirror_mode": {
    "name": "ipython",
    "version": 3
   },
   "file_extension": ".py",
   "mimetype": "text/x-python",
   "name": "python",
   "nbconvert_exporter": "python",
   "pygments_lexer": "ipython3",
   "version": "3.7.16"
  },
  "papermill": {
   "default_parameters": {},
   "duration": 671.954329,
   "end_time": "2023-02-10T20:34:20.844895",
   "environment_variables": {},
   "exception": null,
   "input_path": "__notebook__.ipynb",
   "output_path": "__notebook__.ipynb",
   "parameters": {},
   "start_time": "2023-02-10T20:23:08.890566",
   "version": "2.3.4"
  },
  "vscode": {
   "interpreter": {
    "hash": "d33c48aede0e23553f176ba02ef774cbb4fd4774b638e44e4afcb562c2d6c3c5"
   }
  }
 },
 "nbformat": 4,
 "nbformat_minor": 5
}
